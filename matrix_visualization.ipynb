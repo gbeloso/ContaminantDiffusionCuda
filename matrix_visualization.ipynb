{
 "cells": [
  {
   "cell_type": "code",
   "execution_count": 1,
   "id": "2c7b1fdd",
   "metadata": {},
   "outputs": [],
   "source": [
    "import numpy as np\n",
    "import pandas as pd\n",
    "import seaborn as sns\n",
    "import matplotlib.pyplot as plt"
   ]
  },
  {
   "cell_type": "markdown",
   "id": "0e1e52b4-427b-4532-b50d-cc8b2bf4e3c8",
   "metadata": {
    "scrolled": true
   },
   "source": [
    "Validação dos dados entre paralelo e serial"
   ]
  },
  {
   "cell_type": "code",
   "execution_count": null,
   "id": "181ff33c-0a51-497e-83de-f06d83a2f7a2",
   "metadata": {},
   "outputs": [],
   "source": [
    "iteracoes_diferentes = []\n",
    "for i in range(0, 500, 10):\n",
    "    paralelo = pd.read_csv('cuda_results/results/cuda/matriz/2000_' + str(i) + '.csv')\n",
    "    sequencial = pd.read_csv('saida_sequencial/' + str(i) + '.csv')\n",
    "    if(not(paralelo.equals(sequencial))or not(sequencial.equals(paralelo))):\n",
    "        iteracoes_diferentes.append(i)\n",
    "if len(iteracoes_diferentes) > 0:\n",
    "    print(\"Diferença nas iteracoes: \")\n",
    "    for i in iteracoes_diferentes:\n",
    "        print(str(i) + ', ')\n",
    "else:\n",
    "    print(\"O sequencial e o paralelo deram o mesmo resultado para todas as iterações\")"
   ]
  },
  {
   "cell_type": "markdown",
   "id": "4340f738-00b0-4486-adfb-3f85dc8f9f85",
   "metadata": {
    "editable": true,
    "slideshow": {
     "slide_type": ""
    },
    "tags": []
   },
   "source": [
    "Geração das imagens para o gif"
   ]
  },
  {
   "cell_type": "code",
   "execution_count": null,
   "id": "7b7afc39-4436-4f9f-b883-9330590b4afb",
   "metadata": {},
   "outputs": [],
   "source": [
    "for i in range(0, 100001, 400):\n",
    "    arquivo = \"cuda_results/\" + str(i) + \".csv\"\n",
    "    image = \"cuda_results/images/\" + str(i) + \".png\"\n",
    "    df = pd.read_csv(arquivo)\n",
    "    fig, ax = plt.subplots(figsize=(6,6))\n",
    "    sns.heatmap(df, ax=ax, cbar=False)\n",
    "    ax.set_axis_off()\n",
    "    plt.savefig(image, dpi=300, bbox_inches='tight')\n",
    "    plt.close()\n",
    "    del df"
   ]
  },
  {
   "cell_type": "code",
   "execution_count": null,
   "id": "be141720-6f14-433f-904a-d2e6420e17ec",
   "metadata": {},
   "outputs": [],
   "source": [
    "for i in range(0, 100001, 400):\n",
    "    arquivo = \"saida_sequencial/\" + str(i) + \".csv\"\n",
    "    image = \"saida_sequencial/images/\" + str(i) + \".png\"\n",
    "    df = pd.read_csv(arquivo)\n",
    "    fig, ax = plt.subplots(figsize=(6,6))\n",
    "    sns.heatmap(df, ax=ax, cbar=False, cmap='coolwarm')\n",
    "    ax.set_axis_off()\n",
    "    plt.savefig(image, dpi=300, bbox_inches='tight')\n",
    "    plt.close()\n",
    "    del df"
   ]
  },
  {
   "cell_type": "code",
   "execution_count": null,
   "id": "9f15d0a0-4364-4b1f-bd48-25bc13ef9d83",
   "metadata": {},
   "outputs": [],
   "source": []
  }
 ],
 "metadata": {
  "kernelspec": {
   "display_name": "Python 3 (ipykernel)",
   "language": "python",
   "name": "python3"
  },
  "language_info": {
   "codemirror_mode": {
    "name": "ipython",
    "version": 3
   },
   "file_extension": ".py",
   "mimetype": "text/x-python",
   "name": "python",
   "nbconvert_exporter": "python",
   "pygments_lexer": "ipython3",
   "version": "3.11.0"
  }
 },
 "nbformat": 4,
 "nbformat_minor": 5
}
