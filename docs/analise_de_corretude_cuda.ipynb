{
 "cells": [
  {
   "cell_type": "code",
   "execution_count": 1,
   "id": "6cd8b3aa-430a-4568-87e1-b0fcf28735c2",
   "metadata": {},
   "outputs": [],
   "source": [
    "import numpy as np\n",
    "import pandas as pd\n",
    "import seaborn as sns\n",
    "import matplotlib.pyplot as plt"
   ]
  },
  {
   "cell_type": "code",
   "execution_count": 2,
   "id": "c7190dd1-1e54-4a0a-9f38-e3b0e030ec97",
   "metadata": {},
   "outputs": [
    {
     "name": "stdout",
     "output_type": "stream",
     "text": [
      "O sequencial e o cuda deram o mesmo resultado\n"
     ]
    }
   ],
   "source": [
    "cuda = pd.read_csv('2000_matriz_cuda.csv')\n",
    "sequencial = pd.read_csv('2000_matriz_sequencial.csv')\n",
    "if(not(cuda.equals(sequencial))or not(sequencial.equals(cuda))):\n",
    "    print(\"O sequencial e o cuda apresentam divergências\")\n",
    "else:\n",
    "    print(\"O sequencial e o cuda deram o mesmo resultado\")"
   ]
  },
  {
   "cell_type": "code",
   "execution_count": 3,
   "id": "4a179975-03a6-431c-9b87-f636dd027ad9",
   "metadata": {},
   "outputs": [
    {
     "name": "stdout",
     "output_type": "stream",
     "text": [
      "O sequencial e o cuda deram o mesmo resultado\n"
     ]
    }
   ],
   "source": [
    "cuda = pd.read_csv('2000_diff_cuda.csv')\n",
    "sequencial = pd.read_csv('2000_diff_sequencial.csv')\n",
    "if(not(cuda.equals(sequencial))or not(sequencial.equals(cuda))):\n",
    "    print(\"O sequencial e o cuda apresentam divergências\")\n",
    "else:\n",
    "    print(\"O sequencial e o cuda deram o mesmo resultado\")"
   ]
  }
 ],
 "metadata": {
  "kernelspec": {
   "display_name": "Python 3 (ipykernel)",
   "language": "python",
   "name": "python3"
  },
  "language_info": {
   "codemirror_mode": {
    "name": "ipython",
    "version": 3
   },
   "file_extension": ".py",
   "mimetype": "text/x-python",
   "name": "python",
   "nbconvert_exporter": "python",
   "pygments_lexer": "ipython3",
   "version": "3.12.7"
  }
 },
 "nbformat": 4,
 "nbformat_minor": 5
}
